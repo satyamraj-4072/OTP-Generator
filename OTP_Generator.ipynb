{
  "nbformat": 4,
  "nbformat_minor": 0,
  "metadata": {
    "colab": {
      "provenance": []
    },
    "kernelspec": {
      "name": "python3",
      "display_name": "Python 3"
    },
    "language_info": {
      "name": "python"
    }
  },
  "cells": [
    {
      "cell_type": "code",
      "source": [
        "import random\n",
        "\n",
        "def generate_otp(length=4):\n",
        "    otp = \"\"\n",
        "    for _ in range(length):\n",
        "        otp += str(random.randint(0, 9))\n",
        "    return otp\n",
        "\n",
        "# Generate a 6-digit OTP\n",
        "otp = generate_otp()\n",
        "print(\"Generated OTP:\", otp)\n"
      ],
      "metadata": {
        "colab": {
          "base_uri": "https://localhost:8080/"
        },
        "id": "i765A8wpqnPc",
        "outputId": "f69344aa-b82b-441c-9092-6b9ce522d136"
      },
      "execution_count": 22,
      "outputs": [
        {
          "output_type": "stream",
          "name": "stdout",
          "text": [
            "Generated OTP: 8847\n"
          ]
        }
      ]
    }
  ]
}